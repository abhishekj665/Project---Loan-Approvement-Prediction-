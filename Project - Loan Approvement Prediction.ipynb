{
 "cells": [
  {
   "cell_type": "code",
   "execution_count": 154,
   "id": "e257acff-0bba-4c41-b2a1-5367c1f08a82",
   "metadata": {},
   "outputs": [
    {
     "name": "stdout",
     "output_type": "stream",
     "text": [
      "Set up complete\n"
     ]
    }
   ],
   "source": [
    "import numpy as np\n",
    "import pandas as pd\n",
    "import matplotlib.pyplot as plt\n",
    "import seaborn as sns\n",
    "import warnings\n",
    "warnings.filterwarnings(\"ignore\")\n",
    "\n",
    "import sklearn\n",
    "from sklearn.model_selection import train_test_split\n",
    "from sklearn.linear_model import LogisticRegression\n",
    "from sklearn.tree import DecisionTreeClassifier\n",
    "from sklearn.ensemble import GradientBoostingClassifier\n",
    "from sklearn.ensemble import RandomForestClassifier\n",
    "from sklearn.preprocessing import StandardScaler\n",
    "from sklearn.metrics import confusion_matrix,accuracy_score,classification_report\n",
    "\n",
    "print(\"Set up complete\")"
   ]
  },
  {
   "cell_type": "code",
   "execution_count": 155,
   "id": "c1d2ac5d-de1a-4f0b-8cba-91adbe85a2cd",
   "metadata": {},
   "outputs": [],
   "source": [
    "data = pd.read_csv(\"loan_detection.csv\")"
   ]
  },
  {
   "cell_type": "code",
   "execution_count": 156,
   "id": "24df9222-8da7-475e-ab37-94fa03d4ec6b",
   "metadata": {},
   "outputs": [
    {
     "data": {
      "text/html": [
       "<div>\n",
       "<style scoped>\n",
       "    .dataframe tbody tr th:only-of-type {\n",
       "        vertical-align: middle;\n",
       "    }\n",
       "\n",
       "    .dataframe tbody tr th {\n",
       "        vertical-align: top;\n",
       "    }\n",
       "\n",
       "    .dataframe thead th {\n",
       "        text-align: right;\n",
       "    }\n",
       "</style>\n",
       "<table border=\"1\" class=\"dataframe\">\n",
       "  <thead>\n",
       "    <tr style=\"text-align: right;\">\n",
       "      <th></th>\n",
       "      <th>age</th>\n",
       "      <th>campaign</th>\n",
       "      <th>pdays</th>\n",
       "      <th>previous</th>\n",
       "      <th>no_previous_contact</th>\n",
       "      <th>not_working</th>\n",
       "      <th>job_admin.</th>\n",
       "      <th>job_blue-collar</th>\n",
       "      <th>job_entrepreneur</th>\n",
       "      <th>job_housemaid</th>\n",
       "      <th>...</th>\n",
       "      <th>month_sep</th>\n",
       "      <th>day_of_week_fri</th>\n",
       "      <th>day_of_week_mon</th>\n",
       "      <th>day_of_week_thu</th>\n",
       "      <th>day_of_week_tue</th>\n",
       "      <th>day_of_week_wed</th>\n",
       "      <th>poutcome_failure</th>\n",
       "      <th>poutcome_nonexistent</th>\n",
       "      <th>poutcome_success</th>\n",
       "      <th>Loan_Status_label</th>\n",
       "    </tr>\n",
       "  </thead>\n",
       "  <tbody>\n",
       "    <tr>\n",
       "      <th>0</th>\n",
       "      <td>56</td>\n",
       "      <td>1</td>\n",
       "      <td>999</td>\n",
       "      <td>0</td>\n",
       "      <td>1</td>\n",
       "      <td>0</td>\n",
       "      <td>0</td>\n",
       "      <td>0</td>\n",
       "      <td>0</td>\n",
       "      <td>1</td>\n",
       "      <td>...</td>\n",
       "      <td>0</td>\n",
       "      <td>0</td>\n",
       "      <td>1</td>\n",
       "      <td>0</td>\n",
       "      <td>0</td>\n",
       "      <td>0</td>\n",
       "      <td>0</td>\n",
       "      <td>1</td>\n",
       "      <td>0</td>\n",
       "      <td>0</td>\n",
       "    </tr>\n",
       "    <tr>\n",
       "      <th>1</th>\n",
       "      <td>57</td>\n",
       "      <td>1</td>\n",
       "      <td>999</td>\n",
       "      <td>0</td>\n",
       "      <td>1</td>\n",
       "      <td>0</td>\n",
       "      <td>0</td>\n",
       "      <td>0</td>\n",
       "      <td>0</td>\n",
       "      <td>0</td>\n",
       "      <td>...</td>\n",
       "      <td>0</td>\n",
       "      <td>0</td>\n",
       "      <td>1</td>\n",
       "      <td>0</td>\n",
       "      <td>0</td>\n",
       "      <td>0</td>\n",
       "      <td>0</td>\n",
       "      <td>1</td>\n",
       "      <td>0</td>\n",
       "      <td>0</td>\n",
       "    </tr>\n",
       "    <tr>\n",
       "      <th>2</th>\n",
       "      <td>37</td>\n",
       "      <td>1</td>\n",
       "      <td>999</td>\n",
       "      <td>0</td>\n",
       "      <td>1</td>\n",
       "      <td>0</td>\n",
       "      <td>0</td>\n",
       "      <td>0</td>\n",
       "      <td>0</td>\n",
       "      <td>0</td>\n",
       "      <td>...</td>\n",
       "      <td>0</td>\n",
       "      <td>0</td>\n",
       "      <td>1</td>\n",
       "      <td>0</td>\n",
       "      <td>0</td>\n",
       "      <td>0</td>\n",
       "      <td>0</td>\n",
       "      <td>1</td>\n",
       "      <td>0</td>\n",
       "      <td>0</td>\n",
       "    </tr>\n",
       "    <tr>\n",
       "      <th>3</th>\n",
       "      <td>40</td>\n",
       "      <td>1</td>\n",
       "      <td>999</td>\n",
       "      <td>0</td>\n",
       "      <td>1</td>\n",
       "      <td>0</td>\n",
       "      <td>1</td>\n",
       "      <td>0</td>\n",
       "      <td>0</td>\n",
       "      <td>0</td>\n",
       "      <td>...</td>\n",
       "      <td>0</td>\n",
       "      <td>0</td>\n",
       "      <td>1</td>\n",
       "      <td>0</td>\n",
       "      <td>0</td>\n",
       "      <td>0</td>\n",
       "      <td>0</td>\n",
       "      <td>1</td>\n",
       "      <td>0</td>\n",
       "      <td>0</td>\n",
       "    </tr>\n",
       "    <tr>\n",
       "      <th>4</th>\n",
       "      <td>56</td>\n",
       "      <td>1</td>\n",
       "      <td>999</td>\n",
       "      <td>0</td>\n",
       "      <td>1</td>\n",
       "      <td>0</td>\n",
       "      <td>0</td>\n",
       "      <td>0</td>\n",
       "      <td>0</td>\n",
       "      <td>0</td>\n",
       "      <td>...</td>\n",
       "      <td>0</td>\n",
       "      <td>0</td>\n",
       "      <td>1</td>\n",
       "      <td>0</td>\n",
       "      <td>0</td>\n",
       "      <td>0</td>\n",
       "      <td>0</td>\n",
       "      <td>1</td>\n",
       "      <td>0</td>\n",
       "      <td>0</td>\n",
       "    </tr>\n",
       "  </tbody>\n",
       "</table>\n",
       "<p>5 rows × 60 columns</p>\n",
       "</div>"
      ],
      "text/plain": [
       "   age  campaign  pdays  previous  no_previous_contact  not_working  \\\n",
       "0   56         1    999         0                    1            0   \n",
       "1   57         1    999         0                    1            0   \n",
       "2   37         1    999         0                    1            0   \n",
       "3   40         1    999         0                    1            0   \n",
       "4   56         1    999         0                    1            0   \n",
       "\n",
       "   job_admin.  job_blue-collar  job_entrepreneur  job_housemaid  ...  \\\n",
       "0           0                0                 0              1  ...   \n",
       "1           0                0                 0              0  ...   \n",
       "2           0                0                 0              0  ...   \n",
       "3           1                0                 0              0  ...   \n",
       "4           0                0                 0              0  ...   \n",
       "\n",
       "   month_sep  day_of_week_fri  day_of_week_mon  day_of_week_thu  \\\n",
       "0          0                0                1                0   \n",
       "1          0                0                1                0   \n",
       "2          0                0                1                0   \n",
       "3          0                0                1                0   \n",
       "4          0                0                1                0   \n",
       "\n",
       "   day_of_week_tue  day_of_week_wed  poutcome_failure  poutcome_nonexistent  \\\n",
       "0                0                0                 0                     1   \n",
       "1                0                0                 0                     1   \n",
       "2                0                0                 0                     1   \n",
       "3                0                0                 0                     1   \n",
       "4                0                0                 0                     1   \n",
       "\n",
       "   poutcome_success  Loan_Status_label  \n",
       "0                 0                  0  \n",
       "1                 0                  0  \n",
       "2                 0                  0  \n",
       "3                 0                  0  \n",
       "4                 0                  0  \n",
       "\n",
       "[5 rows x 60 columns]"
      ]
     },
     "execution_count": 156,
     "metadata": {},
     "output_type": "execute_result"
    }
   ],
   "source": [
    "data.head()"
   ]
  },
  {
   "cell_type": "code",
   "execution_count": 157,
   "id": "521eb9d1-36e0-4413-8c18-4df64be8b85f",
   "metadata": {},
   "outputs": [
    {
     "data": {
      "text/plain": [
       "2471280"
      ]
     },
     "execution_count": 157,
     "metadata": {},
     "output_type": "execute_result"
    }
   ],
   "source": [
    "data.size"
   ]
  },
  {
   "cell_type": "code",
   "execution_count": 158,
   "id": "217d23f3-485a-4bae-960f-5c1a99ea4018",
   "metadata": {},
   "outputs": [
    {
     "data": {
      "text/plain": [
       "(41188, 60)"
      ]
     },
     "execution_count": 158,
     "metadata": {},
     "output_type": "execute_result"
    }
   ],
   "source": [
    "data.shape"
   ]
  },
  {
   "cell_type": "code",
   "execution_count": 159,
   "id": "3f7932e1-1841-4b30-969d-54e84a24fc7f",
   "metadata": {},
   "outputs": [
    {
     "name": "stdout",
     "output_type": "stream",
     "text": [
      "<class 'pandas.core.frame.DataFrame'>\n",
      "RangeIndex: 41188 entries, 0 to 41187\n",
      "Data columns (total 60 columns):\n",
      " #   Column                         Non-Null Count  Dtype\n",
      "---  ------                         --------------  -----\n",
      " 0   age                            41188 non-null  int64\n",
      " 1   campaign                       41188 non-null  int64\n",
      " 2   pdays                          41188 non-null  int64\n",
      " 3   previous                       41188 non-null  int64\n",
      " 4   no_previous_contact            41188 non-null  int64\n",
      " 5   not_working                    41188 non-null  int64\n",
      " 6   job_admin.                     41188 non-null  int64\n",
      " 7   job_blue-collar                41188 non-null  int64\n",
      " 8   job_entrepreneur               41188 non-null  int64\n",
      " 9   job_housemaid                  41188 non-null  int64\n",
      " 10  job_management                 41188 non-null  int64\n",
      " 11  job_retired                    41188 non-null  int64\n",
      " 12  job_self-employed              41188 non-null  int64\n",
      " 13  job_services                   41188 non-null  int64\n",
      " 14  job_student                    41188 non-null  int64\n",
      " 15  job_technician                 41188 non-null  int64\n",
      " 16  job_unemployed                 41188 non-null  int64\n",
      " 17  job_unknown                    41188 non-null  int64\n",
      " 18  marital_divorced               41188 non-null  int64\n",
      " 19  marital_married                41188 non-null  int64\n",
      " 20  marital_single                 41188 non-null  int64\n",
      " 21  marital_unknown                41188 non-null  int64\n",
      " 22  education_basic.4y             41188 non-null  int64\n",
      " 23  education_basic.6y             41188 non-null  int64\n",
      " 24  education_basic.9y             41188 non-null  int64\n",
      " 25  education_high.school          41188 non-null  int64\n",
      " 26  education_illiterate           41188 non-null  int64\n",
      " 27  education_professional.course  41188 non-null  int64\n",
      " 28  education_university.degree    41188 non-null  int64\n",
      " 29  education_unknown              41188 non-null  int64\n",
      " 30  default_no                     41188 non-null  int64\n",
      " 31  default_unknown                41188 non-null  int64\n",
      " 32  default_yes                    41188 non-null  int64\n",
      " 33  housing_no                     41188 non-null  int64\n",
      " 34  housing_unknown                41188 non-null  int64\n",
      " 35  housing_yes                    41188 non-null  int64\n",
      " 36  loan_no                        41188 non-null  int64\n",
      " 37  loan_unknown                   41188 non-null  int64\n",
      " 38  loan_yes                       41188 non-null  int64\n",
      " 39  contact_cellular               41188 non-null  int64\n",
      " 40  contact_telephone              41188 non-null  int64\n",
      " 41  month_apr                      41188 non-null  int64\n",
      " 42  month_aug                      41188 non-null  int64\n",
      " 43  month_dec                      41188 non-null  int64\n",
      " 44  month_jul                      41188 non-null  int64\n",
      " 45  month_jun                      41188 non-null  int64\n",
      " 46  month_mar                      41188 non-null  int64\n",
      " 47  month_may                      41188 non-null  int64\n",
      " 48  month_nov                      41188 non-null  int64\n",
      " 49  month_oct                      41188 non-null  int64\n",
      " 50  month_sep                      41188 non-null  int64\n",
      " 51  day_of_week_fri                41188 non-null  int64\n",
      " 52  day_of_week_mon                41188 non-null  int64\n",
      " 53  day_of_week_thu                41188 non-null  int64\n",
      " 54  day_of_week_tue                41188 non-null  int64\n",
      " 55  day_of_week_wed                41188 non-null  int64\n",
      " 56  poutcome_failure               41188 non-null  int64\n",
      " 57  poutcome_nonexistent           41188 non-null  int64\n",
      " 58  poutcome_success               41188 non-null  int64\n",
      " 59  Loan_Status_label              41188 non-null  int64\n",
      "dtypes: int64(60)\n",
      "memory usage: 18.9 MB\n"
     ]
    }
   ],
   "source": [
    "data.info()"
   ]
  },
  {
   "cell_type": "code",
   "execution_count": 160,
   "id": "db3cd490-9314-41c7-a636-be2bee92ff12",
   "metadata": {},
   "outputs": [
    {
     "data": {
      "text/html": [
       "<div>\n",
       "<style scoped>\n",
       "    .dataframe tbody tr th:only-of-type {\n",
       "        vertical-align: middle;\n",
       "    }\n",
       "\n",
       "    .dataframe tbody tr th {\n",
       "        vertical-align: top;\n",
       "    }\n",
       "\n",
       "    .dataframe thead th {\n",
       "        text-align: right;\n",
       "    }\n",
       "</style>\n",
       "<table border=\"1\" class=\"dataframe\">\n",
       "  <thead>\n",
       "    <tr style=\"text-align: right;\">\n",
       "      <th></th>\n",
       "      <th>age</th>\n",
       "      <th>campaign</th>\n",
       "      <th>pdays</th>\n",
       "      <th>previous</th>\n",
       "      <th>no_previous_contact</th>\n",
       "      <th>not_working</th>\n",
       "      <th>job_admin.</th>\n",
       "      <th>job_blue-collar</th>\n",
       "      <th>job_entrepreneur</th>\n",
       "      <th>job_housemaid</th>\n",
       "      <th>...</th>\n",
       "      <th>month_sep</th>\n",
       "      <th>day_of_week_fri</th>\n",
       "      <th>day_of_week_mon</th>\n",
       "      <th>day_of_week_thu</th>\n",
       "      <th>day_of_week_tue</th>\n",
       "      <th>day_of_week_wed</th>\n",
       "      <th>poutcome_failure</th>\n",
       "      <th>poutcome_nonexistent</th>\n",
       "      <th>poutcome_success</th>\n",
       "      <th>Loan_Status_label</th>\n",
       "    </tr>\n",
       "  </thead>\n",
       "  <tbody>\n",
       "    <tr>\n",
       "      <th>count</th>\n",
       "      <td>41188.00000</td>\n",
       "      <td>41188.000000</td>\n",
       "      <td>41188.000000</td>\n",
       "      <td>41188.000000</td>\n",
       "      <td>41188.000000</td>\n",
       "      <td>41188.000000</td>\n",
       "      <td>41188.000000</td>\n",
       "      <td>41188.000000</td>\n",
       "      <td>41188.000000</td>\n",
       "      <td>41188.000000</td>\n",
       "      <td>...</td>\n",
       "      <td>41188.000000</td>\n",
       "      <td>41188.000000</td>\n",
       "      <td>41188.000000</td>\n",
       "      <td>41188.000000</td>\n",
       "      <td>41188.000000</td>\n",
       "      <td>41188.000000</td>\n",
       "      <td>41188.000000</td>\n",
       "      <td>41188.000000</td>\n",
       "      <td>41188.000000</td>\n",
       "      <td>41188.000000</td>\n",
       "    </tr>\n",
       "    <tr>\n",
       "      <th>mean</th>\n",
       "      <td>40.02406</td>\n",
       "      <td>2.567593</td>\n",
       "      <td>962.475454</td>\n",
       "      <td>0.172963</td>\n",
       "      <td>0.963217</td>\n",
       "      <td>0.087623</td>\n",
       "      <td>0.253035</td>\n",
       "      <td>0.224677</td>\n",
       "      <td>0.035350</td>\n",
       "      <td>0.025736</td>\n",
       "      <td>...</td>\n",
       "      <td>0.013839</td>\n",
       "      <td>0.190031</td>\n",
       "      <td>0.206711</td>\n",
       "      <td>0.209357</td>\n",
       "      <td>0.196416</td>\n",
       "      <td>0.197485</td>\n",
       "      <td>0.103234</td>\n",
       "      <td>0.863431</td>\n",
       "      <td>0.033335</td>\n",
       "      <td>0.112654</td>\n",
       "    </tr>\n",
       "    <tr>\n",
       "      <th>std</th>\n",
       "      <td>10.42125</td>\n",
       "      <td>2.770014</td>\n",
       "      <td>186.910907</td>\n",
       "      <td>0.494901</td>\n",
       "      <td>0.188230</td>\n",
       "      <td>0.282749</td>\n",
       "      <td>0.434756</td>\n",
       "      <td>0.417375</td>\n",
       "      <td>0.184665</td>\n",
       "      <td>0.158348</td>\n",
       "      <td>...</td>\n",
       "      <td>0.116824</td>\n",
       "      <td>0.392330</td>\n",
       "      <td>0.404951</td>\n",
       "      <td>0.406855</td>\n",
       "      <td>0.397292</td>\n",
       "      <td>0.398106</td>\n",
       "      <td>0.304268</td>\n",
       "      <td>0.343396</td>\n",
       "      <td>0.179512</td>\n",
       "      <td>0.316173</td>\n",
       "    </tr>\n",
       "    <tr>\n",
       "      <th>min</th>\n",
       "      <td>17.00000</td>\n",
       "      <td>1.000000</td>\n",
       "      <td>0.000000</td>\n",
       "      <td>0.000000</td>\n",
       "      <td>0.000000</td>\n",
       "      <td>0.000000</td>\n",
       "      <td>0.000000</td>\n",
       "      <td>0.000000</td>\n",
       "      <td>0.000000</td>\n",
       "      <td>0.000000</td>\n",
       "      <td>...</td>\n",
       "      <td>0.000000</td>\n",
       "      <td>0.000000</td>\n",
       "      <td>0.000000</td>\n",
       "      <td>0.000000</td>\n",
       "      <td>0.000000</td>\n",
       "      <td>0.000000</td>\n",
       "      <td>0.000000</td>\n",
       "      <td>0.000000</td>\n",
       "      <td>0.000000</td>\n",
       "      <td>0.000000</td>\n",
       "    </tr>\n",
       "    <tr>\n",
       "      <th>25%</th>\n",
       "      <td>32.00000</td>\n",
       "      <td>1.000000</td>\n",
       "      <td>999.000000</td>\n",
       "      <td>0.000000</td>\n",
       "      <td>1.000000</td>\n",
       "      <td>0.000000</td>\n",
       "      <td>0.000000</td>\n",
       "      <td>0.000000</td>\n",
       "      <td>0.000000</td>\n",
       "      <td>0.000000</td>\n",
       "      <td>...</td>\n",
       "      <td>0.000000</td>\n",
       "      <td>0.000000</td>\n",
       "      <td>0.000000</td>\n",
       "      <td>0.000000</td>\n",
       "      <td>0.000000</td>\n",
       "      <td>0.000000</td>\n",
       "      <td>0.000000</td>\n",
       "      <td>1.000000</td>\n",
       "      <td>0.000000</td>\n",
       "      <td>0.000000</td>\n",
       "    </tr>\n",
       "    <tr>\n",
       "      <th>50%</th>\n",
       "      <td>38.00000</td>\n",
       "      <td>2.000000</td>\n",
       "      <td>999.000000</td>\n",
       "      <td>0.000000</td>\n",
       "      <td>1.000000</td>\n",
       "      <td>0.000000</td>\n",
       "      <td>0.000000</td>\n",
       "      <td>0.000000</td>\n",
       "      <td>0.000000</td>\n",
       "      <td>0.000000</td>\n",
       "      <td>...</td>\n",
       "      <td>0.000000</td>\n",
       "      <td>0.000000</td>\n",
       "      <td>0.000000</td>\n",
       "      <td>0.000000</td>\n",
       "      <td>0.000000</td>\n",
       "      <td>0.000000</td>\n",
       "      <td>0.000000</td>\n",
       "      <td>1.000000</td>\n",
       "      <td>0.000000</td>\n",
       "      <td>0.000000</td>\n",
       "    </tr>\n",
       "    <tr>\n",
       "      <th>75%</th>\n",
       "      <td>47.00000</td>\n",
       "      <td>3.000000</td>\n",
       "      <td>999.000000</td>\n",
       "      <td>0.000000</td>\n",
       "      <td>1.000000</td>\n",
       "      <td>0.000000</td>\n",
       "      <td>1.000000</td>\n",
       "      <td>0.000000</td>\n",
       "      <td>0.000000</td>\n",
       "      <td>0.000000</td>\n",
       "      <td>...</td>\n",
       "      <td>0.000000</td>\n",
       "      <td>0.000000</td>\n",
       "      <td>0.000000</td>\n",
       "      <td>0.000000</td>\n",
       "      <td>0.000000</td>\n",
       "      <td>0.000000</td>\n",
       "      <td>0.000000</td>\n",
       "      <td>1.000000</td>\n",
       "      <td>0.000000</td>\n",
       "      <td>0.000000</td>\n",
       "    </tr>\n",
       "    <tr>\n",
       "      <th>max</th>\n",
       "      <td>98.00000</td>\n",
       "      <td>56.000000</td>\n",
       "      <td>999.000000</td>\n",
       "      <td>7.000000</td>\n",
       "      <td>1.000000</td>\n",
       "      <td>1.000000</td>\n",
       "      <td>1.000000</td>\n",
       "      <td>1.000000</td>\n",
       "      <td>1.000000</td>\n",
       "      <td>1.000000</td>\n",
       "      <td>...</td>\n",
       "      <td>1.000000</td>\n",
       "      <td>1.000000</td>\n",
       "      <td>1.000000</td>\n",
       "      <td>1.000000</td>\n",
       "      <td>1.000000</td>\n",
       "      <td>1.000000</td>\n",
       "      <td>1.000000</td>\n",
       "      <td>1.000000</td>\n",
       "      <td>1.000000</td>\n",
       "      <td>1.000000</td>\n",
       "    </tr>\n",
       "  </tbody>\n",
       "</table>\n",
       "<p>8 rows × 60 columns</p>\n",
       "</div>"
      ],
      "text/plain": [
       "               age      campaign         pdays      previous  \\\n",
       "count  41188.00000  41188.000000  41188.000000  41188.000000   \n",
       "mean      40.02406      2.567593    962.475454      0.172963   \n",
       "std       10.42125      2.770014    186.910907      0.494901   \n",
       "min       17.00000      1.000000      0.000000      0.000000   \n",
       "25%       32.00000      1.000000    999.000000      0.000000   \n",
       "50%       38.00000      2.000000    999.000000      0.000000   \n",
       "75%       47.00000      3.000000    999.000000      0.000000   \n",
       "max       98.00000     56.000000    999.000000      7.000000   \n",
       "\n",
       "       no_previous_contact   not_working    job_admin.  job_blue-collar  \\\n",
       "count         41188.000000  41188.000000  41188.000000     41188.000000   \n",
       "mean              0.963217      0.087623      0.253035         0.224677   \n",
       "std               0.188230      0.282749      0.434756         0.417375   \n",
       "min               0.000000      0.000000      0.000000         0.000000   \n",
       "25%               1.000000      0.000000      0.000000         0.000000   \n",
       "50%               1.000000      0.000000      0.000000         0.000000   \n",
       "75%               1.000000      0.000000      1.000000         0.000000   \n",
       "max               1.000000      1.000000      1.000000         1.000000   \n",
       "\n",
       "       job_entrepreneur  job_housemaid  ...     month_sep  day_of_week_fri  \\\n",
       "count      41188.000000   41188.000000  ...  41188.000000     41188.000000   \n",
       "mean           0.035350       0.025736  ...      0.013839         0.190031   \n",
       "std            0.184665       0.158348  ...      0.116824         0.392330   \n",
       "min            0.000000       0.000000  ...      0.000000         0.000000   \n",
       "25%            0.000000       0.000000  ...      0.000000         0.000000   \n",
       "50%            0.000000       0.000000  ...      0.000000         0.000000   \n",
       "75%            0.000000       0.000000  ...      0.000000         0.000000   \n",
       "max            1.000000       1.000000  ...      1.000000         1.000000   \n",
       "\n",
       "       day_of_week_mon  day_of_week_thu  day_of_week_tue  day_of_week_wed  \\\n",
       "count     41188.000000     41188.000000     41188.000000     41188.000000   \n",
       "mean          0.206711         0.209357         0.196416         0.197485   \n",
       "std           0.404951         0.406855         0.397292         0.398106   \n",
       "min           0.000000         0.000000         0.000000         0.000000   \n",
       "25%           0.000000         0.000000         0.000000         0.000000   \n",
       "50%           0.000000         0.000000         0.000000         0.000000   \n",
       "75%           0.000000         0.000000         0.000000         0.000000   \n",
       "max           1.000000         1.000000         1.000000         1.000000   \n",
       "\n",
       "       poutcome_failure  poutcome_nonexistent  poutcome_success  \\\n",
       "count      41188.000000          41188.000000      41188.000000   \n",
       "mean           0.103234              0.863431          0.033335   \n",
       "std            0.304268              0.343396          0.179512   \n",
       "min            0.000000              0.000000          0.000000   \n",
       "25%            0.000000              1.000000          0.000000   \n",
       "50%            0.000000              1.000000          0.000000   \n",
       "75%            0.000000              1.000000          0.000000   \n",
       "max            1.000000              1.000000          1.000000   \n",
       "\n",
       "       Loan_Status_label  \n",
       "count       41188.000000  \n",
       "mean            0.112654  \n",
       "std             0.316173  \n",
       "min             0.000000  \n",
       "25%             0.000000  \n",
       "50%             0.000000  \n",
       "75%             0.000000  \n",
       "max             1.000000  \n",
       "\n",
       "[8 rows x 60 columns]"
      ]
     },
     "execution_count": 160,
     "metadata": {},
     "output_type": "execute_result"
    }
   ],
   "source": [
    "data.describe()"
   ]
  },
  {
   "cell_type": "markdown",
   "id": "569e3255-897a-4dee-a953-efab6a2f4746",
   "metadata": {},
   "source": [
    "## Missing and Duplicated data -"
   ]
  },
  {
   "cell_type": "code",
   "execution_count": 161,
   "id": "fb9fec1a-72db-4903-9ceb-247abdfd5594",
   "metadata": {},
   "outputs": [
    {
     "data": {
      "text/plain": [
       "age                              0\n",
       "campaign                         0\n",
       "pdays                            0\n",
       "previous                         0\n",
       "no_previous_contact              0\n",
       "not_working                      0\n",
       "job_admin.                       0\n",
       "job_blue-collar                  0\n",
       "job_entrepreneur                 0\n",
       "job_housemaid                    0\n",
       "job_management                   0\n",
       "job_retired                      0\n",
       "job_self-employed                0\n",
       "job_services                     0\n",
       "job_student                      0\n",
       "job_technician                   0\n",
       "job_unemployed                   0\n",
       "job_unknown                      0\n",
       "marital_divorced                 0\n",
       "marital_married                  0\n",
       "marital_single                   0\n",
       "marital_unknown                  0\n",
       "education_basic.4y               0\n",
       "education_basic.6y               0\n",
       "education_basic.9y               0\n",
       "education_high.school            0\n",
       "education_illiterate             0\n",
       "education_professional.course    0\n",
       "education_university.degree      0\n",
       "education_unknown                0\n",
       "default_no                       0\n",
       "default_unknown                  0\n",
       "default_yes                      0\n",
       "housing_no                       0\n",
       "housing_unknown                  0\n",
       "housing_yes                      0\n",
       "loan_no                          0\n",
       "loan_unknown                     0\n",
       "loan_yes                         0\n",
       "contact_cellular                 0\n",
       "contact_telephone                0\n",
       "month_apr                        0\n",
       "month_aug                        0\n",
       "month_dec                        0\n",
       "month_jul                        0\n",
       "month_jun                        0\n",
       "month_mar                        0\n",
       "month_may                        0\n",
       "month_nov                        0\n",
       "month_oct                        0\n",
       "month_sep                        0\n",
       "day_of_week_fri                  0\n",
       "day_of_week_mon                  0\n",
       "day_of_week_thu                  0\n",
       "day_of_week_tue                  0\n",
       "day_of_week_wed                  0\n",
       "poutcome_failure                 0\n",
       "poutcome_nonexistent             0\n",
       "poutcome_success                 0\n",
       "Loan_Status_label                0\n",
       "dtype: int64"
      ]
     },
     "execution_count": 161,
     "metadata": {},
     "output_type": "execute_result"
    }
   ],
   "source": [
    "data.isnull().sum()"
   ]
  },
  {
   "cell_type": "code",
   "execution_count": 162,
   "id": "0e4d067b-3440-4444-b0af-ed819d41fcb1",
   "metadata": {},
   "outputs": [
    {
     "data": {
      "text/plain": [
       "np.int64(2417)"
      ]
     },
     "execution_count": 162,
     "metadata": {},
     "output_type": "execute_result"
    }
   ],
   "source": [
    "data.duplicated().sum()"
   ]
  },
  {
   "cell_type": "code",
   "execution_count": 163,
   "id": "e414653d-4d96-4dda-b63a-f267f2f667a0",
   "metadata": {},
   "outputs": [
    {
     "data": {
      "text/html": [
       "<div>\n",
       "<style scoped>\n",
       "    .dataframe tbody tr th:only-of-type {\n",
       "        vertical-align: middle;\n",
       "    }\n",
       "\n",
       "    .dataframe tbody tr th {\n",
       "        vertical-align: top;\n",
       "    }\n",
       "\n",
       "    .dataframe thead th {\n",
       "        text-align: right;\n",
       "    }\n",
       "</style>\n",
       "<table border=\"1\" class=\"dataframe\">\n",
       "  <thead>\n",
       "    <tr style=\"text-align: right;\">\n",
       "      <th></th>\n",
       "      <th>age</th>\n",
       "      <th>campaign</th>\n",
       "      <th>pdays</th>\n",
       "      <th>previous</th>\n",
       "      <th>no_previous_contact</th>\n",
       "      <th>not_working</th>\n",
       "      <th>job_admin.</th>\n",
       "      <th>job_blue-collar</th>\n",
       "      <th>job_entrepreneur</th>\n",
       "      <th>job_housemaid</th>\n",
       "      <th>...</th>\n",
       "      <th>month_sep</th>\n",
       "      <th>day_of_week_fri</th>\n",
       "      <th>day_of_week_mon</th>\n",
       "      <th>day_of_week_thu</th>\n",
       "      <th>day_of_week_tue</th>\n",
       "      <th>day_of_week_wed</th>\n",
       "      <th>poutcome_failure</th>\n",
       "      <th>poutcome_nonexistent</th>\n",
       "      <th>poutcome_success</th>\n",
       "      <th>Loan_Status_label</th>\n",
       "    </tr>\n",
       "  </thead>\n",
       "  <tbody>\n",
       "    <tr>\n",
       "      <th>10</th>\n",
       "      <td>41</td>\n",
       "      <td>1</td>\n",
       "      <td>999</td>\n",
       "      <td>0</td>\n",
       "      <td>1</td>\n",
       "      <td>0</td>\n",
       "      <td>0</td>\n",
       "      <td>1</td>\n",
       "      <td>0</td>\n",
       "      <td>0</td>\n",
       "      <td>...</td>\n",
       "      <td>0</td>\n",
       "      <td>0</td>\n",
       "      <td>1</td>\n",
       "      <td>0</td>\n",
       "      <td>0</td>\n",
       "      <td>0</td>\n",
       "      <td>0</td>\n",
       "      <td>1</td>\n",
       "      <td>0</td>\n",
       "      <td>0</td>\n",
       "    </tr>\n",
       "    <tr>\n",
       "      <th>11</th>\n",
       "      <td>25</td>\n",
       "      <td>1</td>\n",
       "      <td>999</td>\n",
       "      <td>0</td>\n",
       "      <td>1</td>\n",
       "      <td>0</td>\n",
       "      <td>0</td>\n",
       "      <td>0</td>\n",
       "      <td>0</td>\n",
       "      <td>0</td>\n",
       "      <td>...</td>\n",
       "      <td>0</td>\n",
       "      <td>0</td>\n",
       "      <td>1</td>\n",
       "      <td>0</td>\n",
       "      <td>0</td>\n",
       "      <td>0</td>\n",
       "      <td>0</td>\n",
       "      <td>1</td>\n",
       "      <td>0</td>\n",
       "      <td>0</td>\n",
       "    </tr>\n",
       "    <tr>\n",
       "      <th>16</th>\n",
       "      <td>35</td>\n",
       "      <td>1</td>\n",
       "      <td>999</td>\n",
       "      <td>0</td>\n",
       "      <td>1</td>\n",
       "      <td>0</td>\n",
       "      <td>0</td>\n",
       "      <td>1</td>\n",
       "      <td>0</td>\n",
       "      <td>0</td>\n",
       "      <td>...</td>\n",
       "      <td>0</td>\n",
       "      <td>0</td>\n",
       "      <td>1</td>\n",
       "      <td>0</td>\n",
       "      <td>0</td>\n",
       "      <td>0</td>\n",
       "      <td>0</td>\n",
       "      <td>1</td>\n",
       "      <td>0</td>\n",
       "      <td>0</td>\n",
       "    </tr>\n",
       "    <tr>\n",
       "      <th>31</th>\n",
       "      <td>59</td>\n",
       "      <td>1</td>\n",
       "      <td>999</td>\n",
       "      <td>0</td>\n",
       "      <td>1</td>\n",
       "      <td>0</td>\n",
       "      <td>0</td>\n",
       "      <td>0</td>\n",
       "      <td>0</td>\n",
       "      <td>0</td>\n",
       "      <td>...</td>\n",
       "      <td>0</td>\n",
       "      <td>0</td>\n",
       "      <td>1</td>\n",
       "      <td>0</td>\n",
       "      <td>0</td>\n",
       "      <td>0</td>\n",
       "      <td>0</td>\n",
       "      <td>1</td>\n",
       "      <td>0</td>\n",
       "      <td>0</td>\n",
       "    </tr>\n",
       "    <tr>\n",
       "      <th>104</th>\n",
       "      <td>52</td>\n",
       "      <td>1</td>\n",
       "      <td>999</td>\n",
       "      <td>0</td>\n",
       "      <td>1</td>\n",
       "      <td>0</td>\n",
       "      <td>1</td>\n",
       "      <td>0</td>\n",
       "      <td>0</td>\n",
       "      <td>0</td>\n",
       "      <td>...</td>\n",
       "      <td>0</td>\n",
       "      <td>0</td>\n",
       "      <td>1</td>\n",
       "      <td>0</td>\n",
       "      <td>0</td>\n",
       "      <td>0</td>\n",
       "      <td>0</td>\n",
       "      <td>1</td>\n",
       "      <td>0</td>\n",
       "      <td>0</td>\n",
       "    </tr>\n",
       "    <tr>\n",
       "      <th>...</th>\n",
       "      <td>...</td>\n",
       "      <td>...</td>\n",
       "      <td>...</td>\n",
       "      <td>...</td>\n",
       "      <td>...</td>\n",
       "      <td>...</td>\n",
       "      <td>...</td>\n",
       "      <td>...</td>\n",
       "      <td>...</td>\n",
       "      <td>...</td>\n",
       "      <td>...</td>\n",
       "      <td>...</td>\n",
       "      <td>...</td>\n",
       "      <td>...</td>\n",
       "      <td>...</td>\n",
       "      <td>...</td>\n",
       "      <td>...</td>\n",
       "      <td>...</td>\n",
       "      <td>...</td>\n",
       "      <td>...</td>\n",
       "      <td>...</td>\n",
       "    </tr>\n",
       "    <tr>\n",
       "      <th>40928</th>\n",
       "      <td>21</td>\n",
       "      <td>1</td>\n",
       "      <td>999</td>\n",
       "      <td>0</td>\n",
       "      <td>1</td>\n",
       "      <td>1</td>\n",
       "      <td>0</td>\n",
       "      <td>0</td>\n",
       "      <td>0</td>\n",
       "      <td>0</td>\n",
       "      <td>...</td>\n",
       "      <td>0</td>\n",
       "      <td>0</td>\n",
       "      <td>0</td>\n",
       "      <td>0</td>\n",
       "      <td>1</td>\n",
       "      <td>0</td>\n",
       "      <td>0</td>\n",
       "      <td>1</td>\n",
       "      <td>0</td>\n",
       "      <td>1</td>\n",
       "    </tr>\n",
       "    <tr>\n",
       "      <th>41131</th>\n",
       "      <td>58</td>\n",
       "      <td>1</td>\n",
       "      <td>999</td>\n",
       "      <td>0</td>\n",
       "      <td>1</td>\n",
       "      <td>0</td>\n",
       "      <td>0</td>\n",
       "      <td>0</td>\n",
       "      <td>0</td>\n",
       "      <td>0</td>\n",
       "      <td>...</td>\n",
       "      <td>0</td>\n",
       "      <td>0</td>\n",
       "      <td>0</td>\n",
       "      <td>1</td>\n",
       "      <td>0</td>\n",
       "      <td>0</td>\n",
       "      <td>0</td>\n",
       "      <td>1</td>\n",
       "      <td>0</td>\n",
       "      <td>0</td>\n",
       "    </tr>\n",
       "    <tr>\n",
       "      <th>41167</th>\n",
       "      <td>32</td>\n",
       "      <td>3</td>\n",
       "      <td>999</td>\n",
       "      <td>0</td>\n",
       "      <td>1</td>\n",
       "      <td>0</td>\n",
       "      <td>1</td>\n",
       "      <td>0</td>\n",
       "      <td>0</td>\n",
       "      <td>0</td>\n",
       "      <td>...</td>\n",
       "      <td>0</td>\n",
       "      <td>0</td>\n",
       "      <td>0</td>\n",
       "      <td>0</td>\n",
       "      <td>0</td>\n",
       "      <td>1</td>\n",
       "      <td>0</td>\n",
       "      <td>1</td>\n",
       "      <td>0</td>\n",
       "      <td>0</td>\n",
       "    </tr>\n",
       "    <tr>\n",
       "      <th>41172</th>\n",
       "      <td>31</td>\n",
       "      <td>1</td>\n",
       "      <td>999</td>\n",
       "      <td>0</td>\n",
       "      <td>1</td>\n",
       "      <td>0</td>\n",
       "      <td>1</td>\n",
       "      <td>0</td>\n",
       "      <td>0</td>\n",
       "      <td>0</td>\n",
       "      <td>...</td>\n",
       "      <td>0</td>\n",
       "      <td>0</td>\n",
       "      <td>0</td>\n",
       "      <td>1</td>\n",
       "      <td>0</td>\n",
       "      <td>0</td>\n",
       "      <td>0</td>\n",
       "      <td>1</td>\n",
       "      <td>0</td>\n",
       "      <td>1</td>\n",
       "    </tr>\n",
       "    <tr>\n",
       "      <th>41181</th>\n",
       "      <td>37</td>\n",
       "      <td>1</td>\n",
       "      <td>999</td>\n",
       "      <td>0</td>\n",
       "      <td>1</td>\n",
       "      <td>0</td>\n",
       "      <td>1</td>\n",
       "      <td>0</td>\n",
       "      <td>0</td>\n",
       "      <td>0</td>\n",
       "      <td>...</td>\n",
       "      <td>0</td>\n",
       "      <td>1</td>\n",
       "      <td>0</td>\n",
       "      <td>0</td>\n",
       "      <td>0</td>\n",
       "      <td>0</td>\n",
       "      <td>0</td>\n",
       "      <td>1</td>\n",
       "      <td>0</td>\n",
       "      <td>1</td>\n",
       "    </tr>\n",
       "  </tbody>\n",
       "</table>\n",
       "<p>2417 rows × 60 columns</p>\n",
       "</div>"
      ],
      "text/plain": [
       "       age  campaign  pdays  previous  no_previous_contact  not_working  \\\n",
       "10      41         1    999         0                    1            0   \n",
       "11      25         1    999         0                    1            0   \n",
       "16      35         1    999         0                    1            0   \n",
       "31      59         1    999         0                    1            0   \n",
       "104     52         1    999         0                    1            0   \n",
       "...    ...       ...    ...       ...                  ...          ...   \n",
       "40928   21         1    999         0                    1            1   \n",
       "41131   58         1    999         0                    1            0   \n",
       "41167   32         3    999         0                    1            0   \n",
       "41172   31         1    999         0                    1            0   \n",
       "41181   37         1    999         0                    1            0   \n",
       "\n",
       "       job_admin.  job_blue-collar  job_entrepreneur  job_housemaid  ...  \\\n",
       "10              0                1                 0              0  ...   \n",
       "11              0                0                 0              0  ...   \n",
       "16              0                1                 0              0  ...   \n",
       "31              0                0                 0              0  ...   \n",
       "104             1                0                 0              0  ...   \n",
       "...           ...              ...               ...            ...  ...   \n",
       "40928           0                0                 0              0  ...   \n",
       "41131           0                0                 0              0  ...   \n",
       "41167           1                0                 0              0  ...   \n",
       "41172           1                0                 0              0  ...   \n",
       "41181           1                0                 0              0  ...   \n",
       "\n",
       "       month_sep  day_of_week_fri  day_of_week_mon  day_of_week_thu  \\\n",
       "10             0                0                1                0   \n",
       "11             0                0                1                0   \n",
       "16             0                0                1                0   \n",
       "31             0                0                1                0   \n",
       "104            0                0                1                0   \n",
       "...          ...              ...              ...              ...   \n",
       "40928          0                0                0                0   \n",
       "41131          0                0                0                1   \n",
       "41167          0                0                0                0   \n",
       "41172          0                0                0                1   \n",
       "41181          0                1                0                0   \n",
       "\n",
       "       day_of_week_tue  day_of_week_wed  poutcome_failure  \\\n",
       "10                   0                0                 0   \n",
       "11                   0                0                 0   \n",
       "16                   0                0                 0   \n",
       "31                   0                0                 0   \n",
       "104                  0                0                 0   \n",
       "...                ...              ...               ...   \n",
       "40928                1                0                 0   \n",
       "41131                0                0                 0   \n",
       "41167                0                1                 0   \n",
       "41172                0                0                 0   \n",
       "41181                0                0                 0   \n",
       "\n",
       "       poutcome_nonexistent  poutcome_success  Loan_Status_label  \n",
       "10                        1                 0                  0  \n",
       "11                        1                 0                  0  \n",
       "16                        1                 0                  0  \n",
       "31                        1                 0                  0  \n",
       "104                       1                 0                  0  \n",
       "...                     ...               ...                ...  \n",
       "40928                     1                 0                  1  \n",
       "41131                     1                 0                  0  \n",
       "41167                     1                 0                  0  \n",
       "41172                     1                 0                  1  \n",
       "41181                     1                 0                  1  \n",
       "\n",
       "[2417 rows x 60 columns]"
      ]
     },
     "execution_count": 163,
     "metadata": {},
     "output_type": "execute_result"
    }
   ],
   "source": [
    "data[data.duplicated()]"
   ]
  },
  {
   "cell_type": "code",
   "execution_count": 164,
   "id": "6cd798e8-5fa3-4bfa-bb5d-7c6e5ff5d8b3",
   "metadata": {},
   "outputs": [
    {
     "data": {
      "text/plain": [
       "age                              int64\n",
       "campaign                         int64\n",
       "pdays                            int64\n",
       "previous                         int64\n",
       "no_previous_contact              int64\n",
       "not_working                      int64\n",
       "job_admin.                       int64\n",
       "job_blue-collar                  int64\n",
       "job_entrepreneur                 int64\n",
       "job_housemaid                    int64\n",
       "job_management                   int64\n",
       "job_retired                      int64\n",
       "job_self-employed                int64\n",
       "job_services                     int64\n",
       "job_student                      int64\n",
       "job_technician                   int64\n",
       "job_unemployed                   int64\n",
       "job_unknown                      int64\n",
       "marital_divorced                 int64\n",
       "marital_married                  int64\n",
       "marital_single                   int64\n",
       "marital_unknown                  int64\n",
       "education_basic.4y               int64\n",
       "education_basic.6y               int64\n",
       "education_basic.9y               int64\n",
       "education_high.school            int64\n",
       "education_illiterate             int64\n",
       "education_professional.course    int64\n",
       "education_university.degree      int64\n",
       "education_unknown                int64\n",
       "default_no                       int64\n",
       "default_unknown                  int64\n",
       "default_yes                      int64\n",
       "housing_no                       int64\n",
       "housing_unknown                  int64\n",
       "housing_yes                      int64\n",
       "loan_no                          int64\n",
       "loan_unknown                     int64\n",
       "loan_yes                         int64\n",
       "contact_cellular                 int64\n",
       "contact_telephone                int64\n",
       "month_apr                        int64\n",
       "month_aug                        int64\n",
       "month_dec                        int64\n",
       "month_jul                        int64\n",
       "month_jun                        int64\n",
       "month_mar                        int64\n",
       "month_may                        int64\n",
       "month_nov                        int64\n",
       "month_oct                        int64\n",
       "month_sep                        int64\n",
       "day_of_week_fri                  int64\n",
       "day_of_week_mon                  int64\n",
       "day_of_week_thu                  int64\n",
       "day_of_week_tue                  int64\n",
       "day_of_week_wed                  int64\n",
       "poutcome_failure                 int64\n",
       "poutcome_nonexistent             int64\n",
       "poutcome_success                 int64\n",
       "Loan_Status_label                int64\n",
       "dtype: object"
      ]
     },
     "execution_count": 164,
     "metadata": {},
     "output_type": "execute_result"
    }
   ],
   "source": [
    "data.dtypes"
   ]
  },
  {
   "cell_type": "code",
   "execution_count": 165,
   "id": "2846576d-3397-4967-be0b-85b4b5dce268",
   "metadata": {},
   "outputs": [],
   "source": [
    "for i in data.columns:\n",
    "    if data[i].isnull().sum() > 0:\n",
    "        print(f\"----------{i}---------\")\n",
    "        print(f\" Mean of {i} : {data[i].mean()} \")\n",
    "        print(f\" Median of {i} : {data[i].median()} \")\n",
    "        sns.distplot(data[i],color = \"green\")\n",
    "        plt.show()"
   ]
  },
  {
   "cell_type": "code",
   "execution_count": 166,
   "id": "829ddc92-c5d9-4dfc-a027-1c67e2d70fa2",
   "metadata": {},
   "outputs": [],
   "source": [
    "for i in data.columns:\n",
    "    if data[i].isnull().sum() > 0:\n",
    "       \n",
    "        print(f\"mean of {i} : {data[i].mean()}\")\n",
    "        print(f\"median of {i} : {data[i].median()}\\n\")"
   ]
  },
  {
   "cell_type": "markdown",
   "id": "1f21308d-9c8e-4e17-af96-16d733431e38",
   "metadata": {},
   "source": [
    "### Imbalance Data -"
   ]
  },
  {
   "cell_type": "code",
   "execution_count": 167,
   "id": "1863b88c-4d8f-4446-a462-b74afeb2b230",
   "metadata": {},
   "outputs": [
    {
     "data": {
      "text/plain": [
       "0        0\n",
       "1        0\n",
       "2        0\n",
       "3        0\n",
       "4        0\n",
       "        ..\n",
       "41183    1\n",
       "41184    0\n",
       "41185    0\n",
       "41186    1\n",
       "41187    0\n",
       "Name: Loan_Status_label, Length: 41188, dtype: int64"
      ]
     },
     "execution_count": 167,
     "metadata": {},
     "output_type": "execute_result"
    }
   ],
   "source": [
    "data[\"Loan_Status_label\"]"
   ]
  },
  {
   "cell_type": "code",
   "execution_count": 168,
   "id": "9bc7baff-517d-4dcd-9831-81729637d372",
   "metadata": {},
   "outputs": [
    {
     "data": {
      "text/plain": [
       "Loan_Status_label\n",
       "0    36548\n",
       "1     4640\n",
       "Name: count, dtype: int64"
      ]
     },
     "execution_count": 168,
     "metadata": {},
     "output_type": "execute_result"
    }
   ],
   "source": [
    "data[\"Loan_Status_label\"].value_counts()"
   ]
  },
  {
   "cell_type": "markdown",
   "id": "a93059de-08cd-48d3-b816-442403cf85e3",
   "metadata": {},
   "source": [
    "## Outliers -"
   ]
  },
  {
   "cell_type": "code",
   "execution_count": null,
   "id": "cd97904f-eebd-4881-815a-ccda23d97be8",
   "metadata": {},
   "outputs": [
    {
     "name": "stdout",
     "output_type": "stream",
     "text": [
      "---------age---------\n"
     ]
    },
    {
     "data": {
      "image/png": "[encoded data removed]",
      "text/plain": [
       "<Figure size 640x480 with 1 Axes>"
      ]
     },
     "metadata": {},
     "output_type": "display_data"
    },
    {
     "name": "stdout",
     "output_type": "stream",
     "text": [
      "---------campaign---------\n"
     ]
    },
    {
     "data": {
      "image/png": "[encoded data removed]",
      "text/plain": [
       "<Figure size 640x480 with 1 Axes>"
      ]
     },
     "metadata": {},
     "output_type": "display_data"
    },
    {
     "name": "stdout",
     "output_type": "stream",
     "text": [
      "---------pdays---------\n"
     ]
    },
    {
     "data": {
      "image/png": "[encoded data removed]",
      "text/plain": [
       "<Figure size 640x480 with 1 Axes>"
      ]
     },
     "metadata": {},
     "output_type": "display_data"
    },
    {
     "name": "stdout",
     "output_type": "stream",
     "text": [
      "---------previous---------\n"
     ]
    },
    {
     "data": {
      "image/png": "[encoded data removed]",
      "text/plain": [
       "<Figure size 640x480 with 1 Axes>"
      ]
     },
     "metadata": {},
     "output_type": "display_data"
    },
    {
     "name": "stdout",
     "output_type": "stream",
     "text": [
      "---------no_previous_contact---------\n"
     ]
    },
    {
     "data": {
      "image/png": "[encoded data removed]",
      "text/plain": [
       "<Figure size 640x480 with 1 Axes>"
      ]
     },
     "metadata": {},
     "output_type": "display_data"
    },
    {
     "name": "stdout",
     "output_type": "stream",
     "text": [
      "---------not_working---------\n"
     ]
    },
    {
     "data": {
      "image/png": "[encoded data removed]",
      "text/plain": [
       "<Figure size 640x480 with 1 Axes>"
      ]
     },
     "metadata": {},
     "output_type": "display_data"
    },
    {
     "name": "stdout",
     "output_type": "stream",
     "text": [
      "---------job_admin.---------\n"
     ]
    },
    {
     "data": {
      "image/png": "[encoded data removed]",
      "text/plain": [
       "<Figure size 640x480 with 1 Axes>"
      ]
     },
     "metadata": {},
     "output_type": "display_data"
    },
    {
     "name": "stdout",
     "output_type": "stream",
     "text": [
      "---------job_blue-collar---------\n"
     ]
    },
    {
     "data": {
      "image/png": "[encoded data removed]",
      "text/plain": [
       "<Figure size 640x480 with 1 Axes>"
      ]
     },
     "metadata": {},
     "output_type": "display_data"
    },
    {
     "name": "stdout",
     "output_type": "stream",
     "text": [
      "---------job_entrepreneur---------\n"
     ]
    },
    {
     "data": {
      "image/png": "[encoded data removed]",
      "text/plain": [
       "<Figure size 640x480 with 1 Axes>"
      ]
     },
     "metadata": {},
     "output_type": "display_data"
    },
    {
     "name": "stdout",
     "output_type": "stream",
     "text": [
      "---------job_housemaid---------\n"
     ]
    },
    {
     "data": {
      "image/png": "[encoded data removed]",
      "text/plain": [
       "<Figure size 640x480 with 1 Axes>"
      ]
     },
     "metadata": {},
     "output_type": "display_data"
    },
    {
     "name": "stdout",
     "output_type": "stream",
     "text": [
      "---------job_management---------\n"
     ]
    },
    {
     "data": {
      "image/png": "[encoded data removed]",
      "text/plain": [
       "<Figure size 640x480 with 1 Axes>"
      ]
     },
     "metadata": {},
     "output_type": "display_data"
    },
    {
     "name": "stdout",
     "output_type": "stream",
     "text": [
      "---------job_retired---------\n"
     ]
    },
    {
     "data": {
      "image/png": "[encoded data removed]",
      "text/plain": [
       "<Figure size 640x480 with 1 Axes>"
      ]
     },
     "metadata": {},
     "output_type": "display_data"
    },
    {
     "name": "stdout",
     "output_type": "stream",
     "text": [
      "---------job_self-employed---------\n"
     ]
    },
    {
     "data": {
      "image/png": "[encoded data removed]",
      "text/plain": [
       "<Figure size 640x480 with 1 Axes>"
      ]
     },
     "metadata": {},
     "output_type": "display_data"
    },
    {
     "name": "stdout",
     "output_type": "stream",
     "text": [
      "---------job_services---------\n"
     ]
    },
    {
     "data": {
      "image/png": "[encoded data removed]",
      "text/plain": [
       "<Figure size 640x480 with 1 Axes>"
      ]
     },
     "metadata": {},
     "output_type": "display_data"
    },
    {
     "name": "stdout",
     "output_type": "stream",
     "text": [
      "---------job_student---------\n"
     ]
    },
    {
     "data": {
      "image/png": "[encoded data removed]",
      "text/plain": [
       "<Figure size 640x480 with 1 Axes>"
      ]
     },
     "metadata": {},
     "output_type": "display_data"
    },
    {
     "name": "stdout",
     "output_type": "stream",
     "text": [
      "---------job_technician---------\n"
     ]
    },
    {
     "data": {
      "image/png": "[encoded data removed]",
      "text/plain": [
       "<Figure size 640x480 with 1 Axes>"
      ]
     },
     "metadata": {},
     "output_type": "display_data"
    },
    {
     "name": "stdout",
     "output_type": "stream",
     "text": [
      "---------job_unemployed---------\n"
     ]
    },
    {
     "data": {
      "image/png": "[encoded data removed]",
      "text/plain": [
       "<Figure size 640x480 with 1 Axes>"
      ]
     },
     "metadata": {},
     "output_type": "display_data"
    },
    {
     "name": "stdout",
     "output_type": "stream",
     "text": [
      "---------job_unknown---------\n"
     ]
    },
    {
     "data": {
      "image/png": "[encoded data removed]",
      "text/plain": [
       "<Figure size 640x480 with 1 Axes>"
      ]
     },
     "metadata": {},
     "output_type": "display_data"
    },
    {
     "name": "stdout",
     "output_type": "stream",
     "text": [
      "---------marital_divorced---------\n"
     ]
    },
    {
     "data": {
      "image/png": "[encoded data removed]",
      "text/plain": [
       "<Figure size 640x480 with 1 Axes>"
      ]
     },
     "metadata": {},
     "output_type": "display_data"
    },
    {
     "name": "stdout",
     "output_type": "stream",
     "text": [
      "---------marital_married---------\n"
     ]
    },
    {
     "data": {
      "image/png": "[encoded data removed]",
      "text/plain": [
       "<Figure size 640x480 with 1 Axes>"
      ]
     },
     "metadata": {},
     "output_type": "display_data"
    },
    {
     "name": "stdout",
     "output_type": "stream",
     "text": [
      "---------marital_single---------\n"
     ]
    },
    {
     "data": {
      "image/png": "[encoded data removed]",
      "text/plain": [
       "<Figure size 640x480 with 1 Axes>"
      ]
     },
     "metadata": {},
     "output_type": "display_data"
    },
    {
     "name": "stdout",
     "output_type": "stream",
     "text": [
      "---------marital_unknown---------\n"
     ]
    }
   ],
   "source": [
    "for i in data.columns:\n",
    "    if i == \"Loan_Status_label\":\n",
    "        pass\n",
    "    else:\n",
    "        print(f\"---------{i}---------\")\n",
    "        sns.boxplot(data[i],color = \"aqua\")\n",
    "        plt.grid()\n",
    "        plt.show()\n"
   ]
  },
  {
   "cell_type": "markdown",
   "id": "571fa10e-f053-4f4c-a94d-358ebaa5b135",
   "metadata": {},
   "source": [
    "#### This dataset is about  bank customers data so we cannot remove any outliers because this dataset have  sensitive data."
   ]
  },
  {
   "cell_type": "markdown",
   "id": "72c79654-7c99-42be-af84-541352e5d5b9",
   "metadata": {},
   "source": [
    "## Feature Selection -"
   ]
  },
  {
   "cell_type": "code",
   "execution_count": null,
   "id": "e0a77134-cce3-43e6-ae37-091a2c41405a",
   "metadata": {},
   "outputs": [],
   "source": [
    "data.corr()"
   ]
  },
  {
   "cell_type": "code",
   "execution_count": null,
   "id": "c6103cc5-7f66-43b7-87fa-5802e45acd05",
   "metadata": {},
   "outputs": [],
   "source": [
    "plt.figure(figsize = (100,40))\n",
    "sns.heatmap(data.corr(),annot = True,cmap = \"viridis\")\n",
    "plt.show()"
   ]
  },
  {
   "cell_type": "markdown",
   "id": "a8c75dcf-a884-43fa-b594-4935bbfab3a6",
   "metadata": {},
   "source": [
    "## Independent Data and Dependent Data -"
   ]
  },
  {
   "cell_type": "code",
   "execution_count": null,
   "id": "804e7591-3253-4d2c-8c7e-de5fa752bf1c",
   "metadata": {},
   "outputs": [],
   "source": [
    "X = data.drop(columns = [\"Loan_Status_label\"],axis = 1)\n",
    "y = data[\"Loan_Status_label\"]"
   ]
  },
  {
   "cell_type": "code",
   "execution_count": null,
   "id": "8dea91bf-c67d-488a-ae5c-b4a56d0c0364",
   "metadata": {},
   "outputs": [],
   "source": []
  },
  {
   "cell_type": "markdown",
   "id": "1e819e5f-69a6-4cf6-a8ee-e125692a6929",
   "metadata": {},
   "source": [
    "## Spliting Data into train_test_split -"
   ]
  },
  {
   "cell_type": "code",
   "execution_count": null,
   "id": "2a40922d-8de0-42be-9c8e-0ae8f985ab9e",
   "metadata": {},
   "outputs": [],
   "source": [
    "X_train,X_test,y_train,y_test = train_test_split(X,y,test_size = 0.2,random_state = 42)"
   ]
  },
  {
   "cell_type": "code",
   "execution_count": null,
   "id": "6ef284d9-bcc3-482d-8eaf-085ec8ad760d",
   "metadata": {},
   "outputs": [],
   "source": []
  },
  {
   "cell_type": "markdown",
   "id": "51e071e4-3b4c-4052-af3b-688ee690d423",
   "metadata": {},
   "source": [
    "## Feature Scalling -"
   ]
  },
  {
   "cell_type": "code",
   "execution_count": null,
   "id": "e3ae7dd4-2927-4a36-adda-053fdaeab606",
   "metadata": {},
   "outputs": [],
   "source": [
    "sc = StandardScaler()"
   ]
  },
  {
   "cell_type": "code",
   "execution_count": null,
   "id": "9a6abf3f-57b3-4ab0-b7eb-1746e9accefc",
   "metadata": {},
   "outputs": [],
   "source": [
    "X_train_sc = sc.fit_transform(X_train)\n",
    "X_test_sc = sc.transform(X_test)"
   ]
  },
  {
   "cell_type": "code",
   "execution_count": null,
   "id": "78fa9050-665c-4721-aad7-d926b2154c04",
   "metadata": {},
   "outputs": [],
   "source": [
    "X_train_sc"
   ]
  },
  {
   "cell_type": "code",
   "execution_count": null,
   "id": "c5e19e05-3f51-4cbf-abb8-3d8949c6a2e9",
   "metadata": {},
   "outputs": [],
   "source": [
    "X_test"
   ]
  },
  {
   "cell_type": "markdown",
   "id": "e9e20744-4df8-4c01-bf13-1ae7dc37275d",
   "metadata": {},
   "source": [
    "## Model Selection -"
   ]
  },
  {
   "cell_type": "markdown",
   "id": "89587ec2-0a7f-4c30-b9cf-baad4770cf6c",
   "metadata": {},
   "source": [
    "### Logistic Regression -"
   ]
  },
  {
   "cell_type": "code",
   "execution_count": null,
   "id": "cc73b716-3ac4-4983-bb52-b02d537d2475",
   "metadata": {},
   "outputs": [],
   "source": [
    "lr = LogisticRegression()"
   ]
  },
  {
   "cell_type": "code",
   "execution_count": null,
   "id": "f9b60608-26c5-4ec4-91a6-315d6e5b61d2",
   "metadata": {},
   "outputs": [],
   "source": [
    "lr.fit(X_train_sc,y_train)"
   ]
  },
  {
   "cell_type": "code",
   "execution_count": null,
   "id": "05d8fa26-cf2f-4a9f-895f-d6ad832087db",
   "metadata": {},
   "outputs": [],
   "source": [
    "print(f\"training accuracy : {round(lr.score(X_train,y_train),2)*100}%\")\n",
    "print(f\"testing accuracy : {round(lr.score(X_test,y_test),2)*100}%\")"
   ]
  },
  {
   "cell_type": "markdown",
   "id": "f0cf535e-5c16-43fc-9760-9a493c8acc51",
   "metadata": {},
   "source": [
    "## Dicision Tree -"
   ]
  },
  {
   "cell_type": "code",
   "execution_count": null,
   "id": "e830b2e8-b7c7-454f-899e-965436cf9d60",
   "metadata": {},
   "outputs": [],
   "source": [
    "dt = DecisionTreeClassifier()"
   ]
  },
  {
   "cell_type": "code",
   "execution_count": null,
   "id": "1bd016f7-4258-4640-a01e-8b5eaa35e8b2",
   "metadata": {},
   "outputs": [],
   "source": [
    "dt.fit(X_train_sc,y_train)"
   ]
  },
  {
   "cell_type": "code",
   "execution_count": null,
   "id": "9d0c139d-0f05-4a4b-a44a-e36b4ac0a851",
   "metadata": {},
   "outputs": [],
   "source": [
    "print(f\"training accuracy : {round(dt.score(X_train,y_train),2)*100}%\")\n",
    "print(f\"testing accuracy : {round(dt.score(X_test,y_test),2)*100}%\")"
   ]
  },
  {
   "cell_type": "markdown",
   "id": "c0917cc9-67ef-441d-907b-ebd29bb2698c",
   "metadata": {},
   "source": [
    "## Gradient Boosting -"
   ]
  },
  {
   "cell_type": "code",
   "execution_count": null,
   "id": "147f9fbd-dae9-4850-93be-54af4ea116bc",
   "metadata": {},
   "outputs": [],
   "source": [
    "gb = GradientBoostingClassifier()"
   ]
  },
  {
   "cell_type": "code",
   "execution_count": null,
   "id": "cc0101f6-f0cf-4ca0-b7c5-647dcb52cca3",
   "metadata": {},
   "outputs": [],
   "source": [
    "gb.fit(X_train_sc,y_train)"
   ]
  },
  {
   "cell_type": "code",
   "execution_count": null,
   "id": "89e782a4-ce68-437f-99a2-cbfc1f8d2f9d",
   "metadata": {},
   "outputs": [],
   "source": [
    "print(f\"training accuracy : {round(gb.score(X_train,y_train),2)*100}%\")\n",
    "print(f\"testing accuracy : {round(gb.score(X_test,y_test),2)*100}%\")"
   ]
  },
  {
   "cell_type": "markdown",
   "id": "c7416718-71ab-4ee5-b109-1a999acb5712",
   "metadata": {},
   "source": [
    "## Random Forest Classifier -"
   ]
  },
  {
   "cell_type": "code",
   "execution_count": null,
   "id": "98a52107-bde0-4ab9-b18a-3cd56d965d79",
   "metadata": {},
   "outputs": [],
   "source": [
    "rf = RandomForestClassifier()"
   ]
  },
  {
   "cell_type": "code",
   "execution_count": null,
   "id": "6a2f3a9c-76a2-4bc9-9a16-7b7617f44a5d",
   "metadata": {},
   "outputs": [],
   "source": [
    "rf.fit(X_train_sc,y_train)"
   ]
  },
  {
   "cell_type": "code",
   "execution_count": null,
   "id": "7fd1c611-99c4-432e-b247-40b45edd4081",
   "metadata": {},
   "outputs": [],
   "source": [
    "print(f\"training accuracy : {round(rf.score(X_train,y_train),2)*100}%\")\n",
    "print(f\"testing accuracy : {round(rf.score(X_test,y_test),2)*100}%\")"
   ]
  },
  {
   "cell_type": "markdown",
   "id": "57b6f84b-cdb3-43c0-be4d-f8d2cfa8cb8c",
   "metadata": {},
   "source": [
    "## Model Training -"
   ]
  },
  {
   "cell_type": "code",
   "execution_count": null,
   "id": "79a4f053-49ad-40b8-a688-26c3075ec9d0",
   "metadata": {},
   "outputs": [],
   "source": [
    "lr = LogisticRegression()"
   ]
  },
  {
   "cell_type": "code",
   "execution_count": null,
   "id": "2613b4e7-b92b-4370-b689-9d0aa0855138",
   "metadata": {},
   "outputs": [],
   "source": [
    "lr.fit(X_train_sc,y_train)"
   ]
  },
  {
   "cell_type": "code",
   "execution_count": null,
   "id": "fb343344-c996-4672-a306-18d515153be8",
   "metadata": {},
   "outputs": [],
   "source": []
  },
  {
   "cell_type": "markdown",
   "id": "2cdf91a1-6485-441e-ae13-5d5b38e2b6c4",
   "metadata": {},
   "source": [
    "## Model Prediction -"
   ]
  },
  {
   "cell_type": "code",
   "execution_count": null,
   "id": "bb38714b-46d6-4c3c-bb40-0c8608fcbf9b",
   "metadata": {},
   "outputs": [],
   "source": [
    "y_pred_train = gb.predict(X_train_sc)\n",
    "y_pred_test = gb.predict(X_test_sc)"
   ]
  },
  {
   "cell_type": "code",
   "execution_count": null,
   "id": "bb9893a3-a030-4070-80cd-fd4cb81c8947",
   "metadata": {},
   "outputs": [],
   "source": [
    "y_train[:10]"
   ]
  },
  {
   "cell_type": "code",
   "execution_count": null,
   "id": "5b943637-4a1c-42d9-97dc-c409f2cec083",
   "metadata": {},
   "outputs": [],
   "source": [
    "y_pred_train[:10]"
   ]
  },
  {
   "cell_type": "code",
   "execution_count": null,
   "id": "ea21ed3e-3c1c-426d-bd80-9fc60d90b3ad",
   "metadata": {},
   "outputs": [],
   "source": [
    "y_test[:10]"
   ]
  },
  {
   "cell_type": "code",
   "execution_count": null,
   "id": "85740b48-1d80-4d21-b0a5-4aad903101b3",
   "metadata": {},
   "outputs": [],
   "source": [
    "y_pred_test[:10]"
   ]
  },
  {
   "cell_type": "markdown",
   "id": "9fd0d604-3483-4028-8217-da9448cd0f5a",
   "metadata": {},
   "source": [
    "## Model Evaluation -"
   ]
  },
  {
   "cell_type": "code",
   "execution_count": null,
   "id": "26fb590e-90b5-4958-a8c8-36bd1c65f98d",
   "metadata": {},
   "outputs": [],
   "source": [
    "confusion_matrix(y_pred_train,y_train)"
   ]
  },
  {
   "cell_type": "code",
   "execution_count": null,
   "id": "718056b8-2aff-41bb-bb9b-7841013e95f6",
   "metadata": {},
   "outputs": [],
   "source": [
    "accuracy_score(y_pred_train,y_train)"
   ]
  },
  {
   "cell_type": "code",
   "execution_count": null,
   "id": "63a8f661-6162-4c74-aef9-0862f1a2c751",
   "metadata": {},
   "outputs": [],
   "source": [
    "print(classification_report(y_pred_train,y_train))"
   ]
  },
  {
   "cell_type": "code",
   "execution_count": null,
   "id": "4092407d-6766-42c7-a3af-db41a49602a3",
   "metadata": {},
   "outputs": [],
   "source": [
    "sns.heatmap(confusion_matrix(y_pred_train,y_train),annot = True,fmt = \"0.6g\",cmap = \"viridis\")\n",
    "plt.show()"
   ]
  },
  {
   "cell_type": "code",
   "execution_count": null,
   "id": "5c9b4b81-a873-4561-b58f-e53cda1e8934",
   "metadata": {},
   "outputs": [],
   "source": [
    "confusion_matrix(y_test,y_pred_test)"
   ]
  },
  {
   "cell_type": "code",
   "execution_count": null,
   "id": "baddcf75-4c4b-4f4a-bee2-89dcce88414c",
   "metadata": {},
   "outputs": [],
   "source": [
    "accuracy_score(y_pred_test,y_test)"
   ]
  },
  {
   "cell_type": "code",
   "execution_count": null,
   "id": "007aad42-3a52-485d-9ab8-aee1022e74a3",
   "metadata": {},
   "outputs": [],
   "source": [
    "print(classification_report(y_pred_test,y_test))"
   ]
  },
  {
   "cell_type": "code",
   "execution_count": null,
   "id": "cd399b27-0eed-4815-9a31-b1c3a2ac3c3d",
   "metadata": {},
   "outputs": [],
   "source": [
    "sns.heatmap(confusion_matrix(y_test,y_pred_test),annot = True,fmt = \".6g\",cmap = \"viridis\")\n",
    "plt.show()"
   ]
  },
  {
   "cell_type": "code",
   "execution_count": null,
   "id": "66489866-825b-4d97-a2cf-a7569f96ac4e",
   "metadata": {},
   "outputs": [],
   "source": []
  },
  {
   "cell_type": "code",
   "execution_count": null,
   "id": "88297583-a6eb-44cc-81b9-43dcdbdbfa3e",
   "metadata": {},
   "outputs": [],
   "source": []
  },
  {
   "cell_type": "code",
   "execution_count": null,
   "id": "0330f076-9e9b-4e87-93a7-c1e8af5bcd68",
   "metadata": {},
   "outputs": [],
   "source": []
  },
  {
   "cell_type": "markdown",
   "id": "18573fec-acfd-4020-9e42-3dc602bb0ea8",
   "metadata": {},
   "source": [
    "## Now train data without outliers -"
   ]
  },
  {
   "cell_type": "code",
   "execution_count": null,
   "id": "545d72c0-b91f-4ec4-95b9-40927bf0233d",
   "metadata": {},
   "outputs": [],
   "source": [
    "for i in data.columns:\n",
    "    if i == \"Loan_Status_label\":\n",
    "        pass\n",
    "    else:\n",
    "        print(f\"---------{i}---------\")\n",
    "        sns.boxplot(data[i],color = \"aqua\")\n",
    "        plt.grid()\n",
    "        plt.show()\n"
   ]
  },
  {
   "cell_type": "markdown",
   "id": "e9a3c7e8-18d0-42b9-9fed-591371322031",
   "metadata": {},
   "source": [
    "### Using IQR removing outliers -"
   ]
  },
  {
   "cell_type": "code",
   "execution_count": null,
   "id": "b43d2dcb-78fd-4f17-a628-4b2f0a4c1686",
   "metadata": {},
   "outputs": [],
   "source": [
    "Q1 = data.quantile(0.25)\n",
    "Q3 = data.quantile(0.75)\n",
    "\n",
    "IQR = Q3 - Q1\n",
    "\n",
    "print(f\"IQR - \\n{IQR}\")"
   ]
  },
  {
   "cell_type": "code",
   "execution_count": null,
   "id": "c8a8025e-6f0e-4330-928e-ca5bb715f010",
   "metadata": {},
   "outputs": [],
   "source": [
    "lower_bound = Q1 - 1.5*IQR\n",
    "upper_bound = Q3 + 1.5*IQR\n",
    "\n",
    "print(f\"lower bound for outliers :\\n\\n{lower_bound}\\n\\n \")\n",
    "print(f\"upper bound for outliers :\\n\\n{upper_bound}\\n\\n \")"
   ]
  },
  {
   "cell_type": "code",
   "execution_count": null,
   "id": "75e315fb-0334-47d4-a5d1-720195d4ac91",
   "metadata": {},
   "outputs": [],
   "source": [
    "data[~((data < lower_bound) | (data > upper_bound)).any(axis = 1)]"
   ]
  },
  {
   "cell_type": "markdown",
   "id": "a910ad1b-d6e8-4431-8f3b-c01f63152dc5",
   "metadata": {},
   "source": [
    "### For prediction result we cannot drop any values as outlier because  whole data of dataset  is usefull data for better prediction result."
   ]
  },
  {
   "cell_type": "code",
   "execution_count": null,
   "id": "c871ad2b-df7f-4ab5-8c9d-e3da4efea19d",
   "metadata": {},
   "outputs": [],
   "source": []
  }
 ],
 "metadata": {
  "kernelspec": {
   "display_name": "Python 3 (ipykernel)",
   "language": "python",
   "name": "python3"
  },
  "language_info": {
   "codemirror_mode": {
    "name": "ipython",
    "version": 3
   },
   "file_extension": ".py",
   "mimetype": "text/x-python",
   "name": "python",
   "nbconvert_exporter": "python",
   "pygments_lexer": "ipython3",
   "version": "3.12.7"
  }
 },
 "nbformat": 4,
 "nbformat_minor": 5
}
